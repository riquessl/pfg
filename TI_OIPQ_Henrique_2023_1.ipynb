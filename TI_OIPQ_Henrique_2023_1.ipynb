{
  "nbformat": 4,
  "nbformat_minor": 0,
  "metadata": {
    "colab": {
      "provenance": [],
      "authorship_tag": "ABX9TyPnt3dPAEIy5I4pWSRJHmd0",
      "include_colab_link": true
    },
    "kernelspec": {
      "name": "python3",
      "display_name": "Python 3"
    },
    "language_info": {
      "name": "python"
    }
  },
  "cells": [
    {
      "cell_type": "markdown",
      "metadata": {
        "id": "view-in-github",
        "colab_type": "text"
      },
      "source": [
        "<a href=\"https://colab.research.google.com/github/riquessl/pfg/blob/main/TI_OIPQ_Henrique_2023_1.ipynb\" target=\"_parent\"><img src=\"https://colab.research.google.com/assets/colab-badge.svg\" alt=\"Open In Colab\"/></a>"
      ]
    },
    {
      "cell_type": "markdown",
      "source": [
        "The following model for the concentration of glucose via the acid hydrolysis of bleached kraft pulp was obtained on a paper written by Wang, Zhao and Zhu in 2014.\n",
        "\n",
        "$$ C_{glu} = \\frac{1.111 \\cdot C_{cel,0} \\cdot \\gamma \\cdot (k_3 - k_2)}{(k_1 + k_3 - k_2)} \\cdot \\{1 - exp [-(k_1 - k_3) \\cdot t]\\} + \\frac{1.111 \\cdot C_{cel,0} \\cdot \\gamma \\cdot k_1}{(k_1 + k_3 - k_2)} \\cdot [1 - exp(-k_2 \\cdot t)] \\tag{8c} $$\n",
        "\n",
        "In which:\n",
        "\n",
        "- $C_{glu}$ is the concentration of glucose after the acid hydrolysis;  \n",
        "- $C_{cel,0}$ is the initial concentration of cellulose  \n",
        "- $\\gamma$ is the \"degree of hydrolysis\", the fraction of cellulose thea was depolymerized to the form of glucose;  \n",
        "- $k_1$ is the rate constat that represents the reaction from noncrystalline cellulose hydrolysed to cellulose nanocrystals (CNCs);  \n",
        "- $k_2$ is the rate constat that represents the reaction from CNCs hydrolysed to glucose under severe conditions;  \n",
        "- $k_3$is the rate constat that represents the reaction from noncrystalline cellulose directly hydrolysed to glucose;  \n",
        "- $t$ is the hydrolysis time.\n",
        "\n",
        "The full paper can be read by clicking the link bellow:\n",
        "\n",
        "https://www.fpl.fs.usda.gov/documnts/pdf2014/fpl_2014_wang002.pdf\n",
        "  \n"
      ],
      "metadata": {
        "id": "aIA6lEzWobYs"
      }
    },
    {
      "cell_type": "markdown",
      "source": [
        "### Cellulose concentration\n",
        "\n",
        "The concentration of cellulose measured in the pulp was 78.1 $\\pm$ 1.0%. However the normalized value of 84.4% was used in the paper because some of the components were undetectable."
      ],
      "metadata": {
        "id": "0PAn2LzG-N8W"
      }
    },
    {
      "cell_type": "markdown",
      "source": [
        "### Acid Hydrolysis experiments\n",
        "\n",
        "- Range of acid concentration: 50 - 64% m/m\n",
        "- Temperature range: 35 - 80 °C\n",
        "- Reaction times range: 15 - 240 min"
      ],
      "metadata": {
        "id": "s_CwtsDZGk-Y"
      }
    },
    {
      "cell_type": "markdown",
      "source": [
        "### Kinetic constants\n",
        "\n",
        "Using equations $18a$ and $18b$, its possible to calculate $k_1$ and $k_3$ according to the acid concentration and the temperature.\n",
        "\n",
        "$$ k_1 = 4.8059 \\cdot exp \\Bigg (- \\frac{36353}{R \\cdot T} \\Bigg ) \\cdot C_{SA}^{3.8157} \\tag{18a} $$  \n",
        "\n",
        "$$ k_3 = 24.1186 \\cdot exp \\Bigg (- \\frac{40222}{R \\cdot T} \\Bigg ) \\cdot C_{SA}^{3.2566} \\tag{18b} $$  \n",
        "\n",
        "In which:\n",
        "\n",
        "- $R$ is the combined severity factor\n",
        "- $C_{SA}$ is the acid concentration\n",
        "- $T$ is the temperature in K"
      ],
      "metadata": {
        "id": "mQRmc1jIVbYl"
      }
    },
    {
      "cell_type": "markdown",
      "source": [
        "### Severity Factor ($R_0$) and Combined Severity Factor ($R$)\n",
        "\n",
        "$$ R_0 = exp \\Bigg ( \\frac{T' - T_r}{14.75}\\Bigg ) \\tag{19}$$  \n",
        "\n",
        "$$ R = C_{SA}^n \\cdot R_0 \\tag{20} $$\n",
        "\n",
        "In which:\n",
        "\n",
        "- $T'$ is the temperature in Celsius  \n",
        "- $T_r$ is the reference temperature (25 °C)\n",
        "- $n$ is the strong acid dependence of the hydrolysis reaction"
      ],
      "metadata": {
        "id": "ESOwdRqfclI-"
      }
    },
    {
      "cell_type": "markdown",
      "source": [
        "### Degree of hydrolysis\n",
        "\n",
        "$$ \\gamma = 1 - \\frac{60.8259}{C_{SA}^{1.9752} \\cdot R_0^{0.1314}} \\tag {23a} $$  "
      ],
      "metadata": {
        "id": "f0mmR6rmYW00"
      }
    },
    {
      "cell_type": "markdown",
      "source": [
        "### Data"
      ],
      "metadata": {
        "id": "UtHLaBPQgi56"
      }
    },
    {
      "cell_type": "code",
      "source": [
        "import pandas as pd\n",
        "import numpy as np"
      ],
      "metadata": {
        "id": "E94tAVGKjwLx"
      },
      "execution_count": null,
      "outputs": []
    },
    {
      "cell_type": "code",
      "source": [
        "C_SA_mol_L = [7.097,7.097,7.097,7.097,8.295,8.295,8.295,8.295,8.715,9.589,9.589,9.589,9.589,10.043]\n",
        "C_SA_mm    = [50.00,50.00,50.00,50.00,56.00,56.00,56.00,56.00,58.00,62.00,62.00,62.00,62.00, 64.00]\n",
        "T_oC       = [50.00,60.00,70.00,80.00,40.00,50.00,60.00,70.00,56.00,35.00,40.00,50.00,60.00, 45.00]\n",
        "t_opt_min  = [239.0,229.0,294.0, 82.0,291.0,202.0,143.0,103.0,205.0,228.0,195.0,101.0, 30.0,  64.0]\n",
        "t_exp_min  = [240.0,240.0,240.0, 90.0,240.0,210.0,150.0, 90.0,210.0,180.0,120.0, 75.0, 60.0,  15.0]\n",
        "C_glu_g_L  = [ 2.00, 5.10, 5.40, 5.70, 1.40, 6.50, 7.70,12.20, 7.50,32.60,19.30,22.00,21.70, 32.00]"
      ],
      "metadata": {
        "id": "4BjxLgLpcWxu"
      },
      "execution_count": null,
      "outputs": []
    },
    {
      "cell_type": "code",
      "source": [
        "!pip install chempy\n",
        "import chempy as chem\n",
        "from chempy.units import default_units as u\n",
        "from chempy.units import to_unitless"
      ],
      "metadata": {
        "id": "FYum7Fl0QDQq",
        "colab": {
          "base_uri": "https://localhost:8080/"
        },
        "outputId": "baee84be-9187-46d4-8795-569af1bc1bac"
      },
      "execution_count": null,
      "outputs": [
        {
          "output_type": "stream",
          "name": "stdout",
          "text": [
            "Requirement already satisfied: chempy in /usr/local/lib/python3.10/dist-packages (0.8.3)\n",
            "Requirement already satisfied: dot2tex>=2.11.3 in /usr/local/lib/python3.10/dist-packages (from chempy) (2.11.3)\n",
            "Requirement already satisfied: matplotlib>=2.2.3 in /usr/local/lib/python3.10/dist-packages (from chempy) (3.7.1)\n",
            "Requirement already satisfied: numpy>1.11.3 in /usr/local/lib/python3.10/dist-packages (from chempy) (1.22.4)\n",
            "Requirement already satisfied: pulp>=1.6.8 in /usr/local/lib/python3.10/dist-packages (from chempy) (2.7.0)\n",
            "Requirement already satisfied: pyneqsys>=0.5.5 in /usr/local/lib/python3.10/dist-packages (from chempy) (0.5.7)\n",
            "Requirement already satisfied: pyodesys>=0.14.1 in /usr/local/lib/python3.10/dist-packages (from chempy) (0.14.2)\n",
            "Requirement already satisfied: pyparsing>=2.0.3 in /usr/local/lib/python3.10/dist-packages (from chempy) (3.1.0)\n",
            "Requirement already satisfied: quantities>=0.12.1 in /usr/local/lib/python3.10/dist-packages (from chempy) (0.14.1)\n",
            "Requirement already satisfied: scipy>=1.0.1 in /usr/local/lib/python3.10/dist-packages (from chempy) (1.10.1)\n",
            "Requirement already satisfied: sym>=0.3.4 in /usr/local/lib/python3.10/dist-packages (from chempy) (0.3.5)\n",
            "Requirement already satisfied: sympy!=1.2,>=1.1.1 in /usr/local/lib/python3.10/dist-packages (from chempy) (1.11.1)\n",
            "Requirement already satisfied: contourpy>=1.0.1 in /usr/local/lib/python3.10/dist-packages (from matplotlib>=2.2.3->chempy) (1.1.0)\n",
            "Requirement already satisfied: cycler>=0.10 in /usr/local/lib/python3.10/dist-packages (from matplotlib>=2.2.3->chempy) (0.11.0)\n",
            "Requirement already satisfied: fonttools>=4.22.0 in /usr/local/lib/python3.10/dist-packages (from matplotlib>=2.2.3->chempy) (4.41.0)\n",
            "Requirement already satisfied: kiwisolver>=1.0.1 in /usr/local/lib/python3.10/dist-packages (from matplotlib>=2.2.3->chempy) (1.4.4)\n",
            "Requirement already satisfied: packaging>=20.0 in /usr/local/lib/python3.10/dist-packages (from matplotlib>=2.2.3->chempy) (23.1)\n",
            "Requirement already satisfied: pillow>=6.2.0 in /usr/local/lib/python3.10/dist-packages (from matplotlib>=2.2.3->chempy) (8.4.0)\n",
            "Requirement already satisfied: python-dateutil>=2.7 in /usr/local/lib/python3.10/dist-packages (from matplotlib>=2.2.3->chempy) (2.8.2)\n",
            "Requirement already satisfied: notebook in /usr/local/lib/python3.10/dist-packages (from pyodesys>=0.14.1->chempy) (6.4.8)\n",
            "Requirement already satisfied: mpmath>=0.19 in /usr/local/lib/python3.10/dist-packages (from sympy!=1.2,>=1.1.1->chempy) (1.3.0)\n",
            "Requirement already satisfied: six>=1.5 in /usr/local/lib/python3.10/dist-packages (from python-dateutil>=2.7->matplotlib>=2.2.3->chempy) (1.16.0)\n",
            "Requirement already satisfied: jinja2 in /usr/local/lib/python3.10/dist-packages (from notebook->pyodesys>=0.14.1->chempy) (3.1.2)\n",
            "Requirement already satisfied: tornado>=6.1 in /usr/local/lib/python3.10/dist-packages (from notebook->pyodesys>=0.14.1->chempy) (6.3.1)\n",
            "Requirement already satisfied: pyzmq>=17 in /usr/local/lib/python3.10/dist-packages (from notebook->pyodesys>=0.14.1->chempy) (23.2.1)\n",
            "Requirement already satisfied: argon2-cffi in /usr/local/lib/python3.10/dist-packages (from notebook->pyodesys>=0.14.1->chempy) (21.3.0)\n",
            "Requirement already satisfied: ipython-genutils in /usr/local/lib/python3.10/dist-packages (from notebook->pyodesys>=0.14.1->chempy) (0.2.0)\n",
            "Requirement already satisfied: traitlets>=4.2.1 in /usr/local/lib/python3.10/dist-packages (from notebook->pyodesys>=0.14.1->chempy) (5.7.1)\n",
            "Requirement already satisfied: jupyter-core>=4.6.1 in /usr/local/lib/python3.10/dist-packages (from notebook->pyodesys>=0.14.1->chempy) (5.3.1)\n",
            "Requirement already satisfied: jupyter-client>=5.3.4 in /usr/local/lib/python3.10/dist-packages (from notebook->pyodesys>=0.14.1->chempy) (6.1.12)\n",
            "Requirement already satisfied: nbformat in /usr/local/lib/python3.10/dist-packages (from notebook->pyodesys>=0.14.1->chempy) (5.9.1)\n",
            "Requirement already satisfied: nbconvert in /usr/local/lib/python3.10/dist-packages (from notebook->pyodesys>=0.14.1->chempy) (6.5.4)\n",
            "Requirement already satisfied: nest-asyncio>=1.5 in /usr/local/lib/python3.10/dist-packages (from notebook->pyodesys>=0.14.1->chempy) (1.5.6)\n",
            "Requirement already satisfied: ipykernel in /usr/local/lib/python3.10/dist-packages (from notebook->pyodesys>=0.14.1->chempy) (5.5.6)\n",
            "Requirement already satisfied: Send2Trash>=1.8.0 in /usr/local/lib/python3.10/dist-packages (from notebook->pyodesys>=0.14.1->chempy) (1.8.2)\n",
            "Requirement already satisfied: terminado>=0.8.3 in /usr/local/lib/python3.10/dist-packages (from notebook->pyodesys>=0.14.1->chempy) (0.17.1)\n",
            "Requirement already satisfied: prometheus-client in /usr/local/lib/python3.10/dist-packages (from notebook->pyodesys>=0.14.1->chempy) (0.17.1)\n",
            "Requirement already satisfied: platformdirs>=2.5 in /usr/local/lib/python3.10/dist-packages (from jupyter-core>=4.6.1->notebook->pyodesys>=0.14.1->chempy) (3.8.1)\n",
            "Requirement already satisfied: ptyprocess in /usr/local/lib/python3.10/dist-packages (from terminado>=0.8.3->notebook->pyodesys>=0.14.1->chempy) (0.7.0)\n",
            "Requirement already satisfied: argon2-cffi-bindings in /usr/local/lib/python3.10/dist-packages (from argon2-cffi->notebook->pyodesys>=0.14.1->chempy) (21.2.0)\n",
            "Requirement already satisfied: ipython>=5.0.0 in /usr/local/lib/python3.10/dist-packages (from ipykernel->notebook->pyodesys>=0.14.1->chempy) (7.34.0)\n",
            "Requirement already satisfied: MarkupSafe>=2.0 in /usr/local/lib/python3.10/dist-packages (from jinja2->notebook->pyodesys>=0.14.1->chempy) (2.1.3)\n",
            "Requirement already satisfied: lxml in /usr/local/lib/python3.10/dist-packages (from nbconvert->notebook->pyodesys>=0.14.1->chempy) (4.9.3)\n",
            "Requirement already satisfied: beautifulsoup4 in /usr/local/lib/python3.10/dist-packages (from nbconvert->notebook->pyodesys>=0.14.1->chempy) (4.11.2)\n",
            "Requirement already satisfied: bleach in /usr/local/lib/python3.10/dist-packages (from nbconvert->notebook->pyodesys>=0.14.1->chempy) (6.0.0)\n",
            "Requirement already satisfied: defusedxml in /usr/local/lib/python3.10/dist-packages (from nbconvert->notebook->pyodesys>=0.14.1->chempy) (0.7.1)\n",
            "Requirement already satisfied: entrypoints>=0.2.2 in /usr/local/lib/python3.10/dist-packages (from nbconvert->notebook->pyodesys>=0.14.1->chempy) (0.4)\n",
            "Requirement already satisfied: jupyterlab-pygments in /usr/local/lib/python3.10/dist-packages (from nbconvert->notebook->pyodesys>=0.14.1->chempy) (0.2.2)\n",
            "Requirement already satisfied: mistune<2,>=0.8.1 in /usr/local/lib/python3.10/dist-packages (from nbconvert->notebook->pyodesys>=0.14.1->chempy) (0.8.4)\n",
            "Requirement already satisfied: nbclient>=0.5.0 in /usr/local/lib/python3.10/dist-packages (from nbconvert->notebook->pyodesys>=0.14.1->chempy) (0.8.0)\n",
            "Requirement already satisfied: pandocfilters>=1.4.1 in /usr/local/lib/python3.10/dist-packages (from nbconvert->notebook->pyodesys>=0.14.1->chempy) (1.5.0)\n",
            "Requirement already satisfied: pygments>=2.4.1 in /usr/local/lib/python3.10/dist-packages (from nbconvert->notebook->pyodesys>=0.14.1->chempy) (2.14.0)\n",
            "Requirement already satisfied: tinycss2 in /usr/local/lib/python3.10/dist-packages (from nbconvert->notebook->pyodesys>=0.14.1->chempy) (1.2.1)\n",
            "Requirement already satisfied: fastjsonschema in /usr/local/lib/python3.10/dist-packages (from nbformat->notebook->pyodesys>=0.14.1->chempy) (2.17.1)\n",
            "Requirement already satisfied: jsonschema>=2.6 in /usr/local/lib/python3.10/dist-packages (from nbformat->notebook->pyodesys>=0.14.1->chempy) (4.3.3)\n",
            "Requirement already satisfied: setuptools>=18.5 in /usr/local/lib/python3.10/dist-packages (from ipython>=5.0.0->ipykernel->notebook->pyodesys>=0.14.1->chempy) (67.7.2)\n",
            "Requirement already satisfied: jedi>=0.16 in /usr/local/lib/python3.10/dist-packages (from ipython>=5.0.0->ipykernel->notebook->pyodesys>=0.14.1->chempy) (0.18.2)\n",
            "Requirement already satisfied: decorator in /usr/local/lib/python3.10/dist-packages (from ipython>=5.0.0->ipykernel->notebook->pyodesys>=0.14.1->chempy) (4.4.2)\n",
            "Requirement already satisfied: pickleshare in /usr/local/lib/python3.10/dist-packages (from ipython>=5.0.0->ipykernel->notebook->pyodesys>=0.14.1->chempy) (0.7.5)\n",
            "Requirement already satisfied: prompt-toolkit!=3.0.0,!=3.0.1,<3.1.0,>=2.0.0 in /usr/local/lib/python3.10/dist-packages (from ipython>=5.0.0->ipykernel->notebook->pyodesys>=0.14.1->chempy) (3.0.39)\n",
            "Requirement already satisfied: backcall in /usr/local/lib/python3.10/dist-packages (from ipython>=5.0.0->ipykernel->notebook->pyodesys>=0.14.1->chempy) (0.2.0)\n",
            "Requirement already satisfied: matplotlib-inline in /usr/local/lib/python3.10/dist-packages (from ipython>=5.0.0->ipykernel->notebook->pyodesys>=0.14.1->chempy) (0.1.6)\n",
            "Requirement already satisfied: pexpect>4.3 in /usr/local/lib/python3.10/dist-packages (from ipython>=5.0.0->ipykernel->notebook->pyodesys>=0.14.1->chempy) (4.8.0)\n",
            "Requirement already satisfied: attrs>=17.4.0 in /usr/local/lib/python3.10/dist-packages (from jsonschema>=2.6->nbformat->notebook->pyodesys>=0.14.1->chempy) (23.1.0)\n",
            "Requirement already satisfied: pyrsistent!=0.17.0,!=0.17.1,!=0.17.2,>=0.14.0 in /usr/local/lib/python3.10/dist-packages (from jsonschema>=2.6->nbformat->notebook->pyodesys>=0.14.1->chempy) (0.19.3)\n",
            "Requirement already satisfied: cffi>=1.0.1 in /usr/local/lib/python3.10/dist-packages (from argon2-cffi-bindings->argon2-cffi->notebook->pyodesys>=0.14.1->chempy) (1.15.1)\n",
            "Requirement already satisfied: soupsieve>1.2 in /usr/local/lib/python3.10/dist-packages (from beautifulsoup4->nbconvert->notebook->pyodesys>=0.14.1->chempy) (2.4.1)\n",
            "Requirement already satisfied: webencodings in /usr/local/lib/python3.10/dist-packages (from bleach->nbconvert->notebook->pyodesys>=0.14.1->chempy) (0.5.1)\n",
            "Requirement already satisfied: pycparser in /usr/local/lib/python3.10/dist-packages (from cffi>=1.0.1->argon2-cffi-bindings->argon2-cffi->notebook->pyodesys>=0.14.1->chempy) (2.21)\n",
            "Requirement already satisfied: parso<0.9.0,>=0.8.0 in /usr/local/lib/python3.10/dist-packages (from jedi>=0.16->ipython>=5.0.0->ipykernel->notebook->pyodesys>=0.14.1->chempy) (0.8.3)\n",
            "Requirement already satisfied: wcwidth in /usr/local/lib/python3.10/dist-packages (from prompt-toolkit!=3.0.0,!=3.0.1,<3.1.0,>=2.0.0->ipython>=5.0.0->ipykernel->notebook->pyodesys>=0.14.1->chempy) (0.2.6)\n"
          ]
        }
      ]
    },
    {
      "cell_type": "code",
      "source": [
        "acid = chem.Substance.from_formula('H2SO4')"
      ],
      "metadata": {
        "id": "L__heeq2QIOL"
      },
      "execution_count": null,
      "outputs": []
    },
    {
      "cell_type": "code",
      "source": [
        "MM_SA = acid.molar_mass(units=u)\n",
        "MM_SA = float(MM_SA)\n",
        "MM_SA"
      ],
      "metadata": {
        "colab": {
          "base_uri": "https://localhost:8080/"
        },
        "id": "7unNzOOMQWV3",
        "outputId": "acc4075f-0a5e-4d32-c899-07a2b49cae76"
      },
      "execution_count": null,
      "outputs": [
        {
          "output_type": "execute_result",
          "data": {
            "text/plain": [
              "98.072"
            ]
          },
          "metadata": {},
          "execution_count": 5
        }
      ]
    },
    {
      "cell_type": "code",
      "source": [
        "C_SA_g_L = [x*MM_SA for x in C_SA_mol_L]\n",
        "C_SA_g_L"
      ],
      "metadata": {
        "colab": {
          "base_uri": "https://localhost:8080/"
        },
        "id": "DPdWp6X7RJSv",
        "outputId": "a1d34eaf-0302-49c5-97a2-c7c11b42871d"
      },
      "execution_count": null,
      "outputs": [
        {
          "output_type": "execute_result",
          "data": {
            "text/plain": [
              "[696.0169840000001,\n",
              " 696.0169840000001,\n",
              " 696.0169840000001,\n",
              " 696.0169840000001,\n",
              " 813.50724,\n",
              " 813.50724,\n",
              " 813.50724,\n",
              " 813.50724,\n",
              " 854.69748,\n",
              " 940.412408,\n",
              " 940.412408,\n",
              " 940.412408,\n",
              " 940.412408,\n",
              " 984.937096]"
            ]
          },
          "metadata": {},
          "execution_count": 6
        }
      ]
    },
    {
      "cell_type": "code",
      "source": [
        "T_K = [x + 273.15 for x in T_oC]\n",
        "T_K"
      ],
      "metadata": {
        "colab": {
          "base_uri": "https://localhost:8080/"
        },
        "id": "J8BXG6ULljgv",
        "outputId": "50aac1d9-8241-4249-ee2f-0db7485d4d9e"
      },
      "execution_count": null,
      "outputs": [
        {
          "output_type": "execute_result",
          "data": {
            "text/plain": [
              "[323.15,\n",
              " 333.15,\n",
              " 343.15,\n",
              " 353.15,\n",
              " 313.15,\n",
              " 323.15,\n",
              " 333.15,\n",
              " 343.15,\n",
              " 329.15,\n",
              " 308.15,\n",
              " 313.15,\n",
              " 323.15,\n",
              " 333.15,\n",
              " 318.15]"
            ]
          },
          "metadata": {},
          "execution_count": 7
        }
      ]
    },
    {
      "cell_type": "code",
      "source": [
        "data = pd.DataFrame(C_SA_mol_L,columns=['C_SA_mol_L'])"
      ],
      "metadata": {
        "id": "fhw0r-dMj9jp"
      },
      "execution_count": null,
      "outputs": []
    },
    {
      "cell_type": "code",
      "source": [
        "data['C_SA_g_L']  = C_SA_g_L\n",
        "data['C_SA_mm']   = C_SA_mm\n",
        "data['T_oC']      = T_oC\n",
        "data['T_K']       = T_K\n",
        "data['t_opt_min'] = t_opt_min\n",
        "data['t_exp_min'] = t_exp_min\n",
        "data['C_glu_g_L'] = C_glu_g_L"
      ],
      "metadata": {
        "id": "m3GtIp5jkyat"
      },
      "execution_count": null,
      "outputs": []
    },
    {
      "cell_type": "code",
      "source": [
        "data.head()"
      ],
      "metadata": {
        "colab": {
          "base_uri": "https://localhost:8080/",
          "height": 206
        },
        "id": "SDIC_KVOlXN_",
        "outputId": "8d5db89d-5132-43d5-ad9f-a7409d868035"
      },
      "execution_count": null,
      "outputs": [
        {
          "output_type": "execute_result",
          "data": {
            "text/plain": [
              "   C_SA_mol_L    C_SA_g_L  C_SA_mm  T_oC     T_K  t_opt_min  t_exp_min  \\\n",
              "0       7.097  696.016984     50.0  50.0  323.15      239.0      240.0   \n",
              "1       7.097  696.016984     50.0  60.0  333.15      229.0      240.0   \n",
              "2       7.097  696.016984     50.0  70.0  343.15      294.0      240.0   \n",
              "3       7.097  696.016984     50.0  80.0  353.15       82.0       90.0   \n",
              "4       8.295  813.507240     56.0  40.0  313.15      291.0      240.0   \n",
              "\n",
              "   C_glu_g_L  \n",
              "0        2.0  \n",
              "1        5.1  \n",
              "2        5.4  \n",
              "3        5.7  \n",
              "4        1.4  "
            ],
            "text/html": [
              "\n",
              "\n",
              "  <div id=\"df-ee374aca-b6cf-44bb-b3b1-6d6257917ddf\">\n",
              "    <div class=\"colab-df-container\">\n",
              "      <div>\n",
              "<style scoped>\n",
              "    .dataframe tbody tr th:only-of-type {\n",
              "        vertical-align: middle;\n",
              "    }\n",
              "\n",
              "    .dataframe tbody tr th {\n",
              "        vertical-align: top;\n",
              "    }\n",
              "\n",
              "    .dataframe thead th {\n",
              "        text-align: right;\n",
              "    }\n",
              "</style>\n",
              "<table border=\"1\" class=\"dataframe\">\n",
              "  <thead>\n",
              "    <tr style=\"text-align: right;\">\n",
              "      <th></th>\n",
              "      <th>C_SA_mol_L</th>\n",
              "      <th>C_SA_g_L</th>\n",
              "      <th>C_SA_mm</th>\n",
              "      <th>T_oC</th>\n",
              "      <th>T_K</th>\n",
              "      <th>t_opt_min</th>\n",
              "      <th>t_exp_min</th>\n",
              "      <th>C_glu_g_L</th>\n",
              "    </tr>\n",
              "  </thead>\n",
              "  <tbody>\n",
              "    <tr>\n",
              "      <th>0</th>\n",
              "      <td>7.097</td>\n",
              "      <td>696.016984</td>\n",
              "      <td>50.0</td>\n",
              "      <td>50.0</td>\n",
              "      <td>323.15</td>\n",
              "      <td>239.0</td>\n",
              "      <td>240.0</td>\n",
              "      <td>2.0</td>\n",
              "    </tr>\n",
              "    <tr>\n",
              "      <th>1</th>\n",
              "      <td>7.097</td>\n",
              "      <td>696.016984</td>\n",
              "      <td>50.0</td>\n",
              "      <td>60.0</td>\n",
              "      <td>333.15</td>\n",
              "      <td>229.0</td>\n",
              "      <td>240.0</td>\n",
              "      <td>5.1</td>\n",
              "    </tr>\n",
              "    <tr>\n",
              "      <th>2</th>\n",
              "      <td>7.097</td>\n",
              "      <td>696.016984</td>\n",
              "      <td>50.0</td>\n",
              "      <td>70.0</td>\n",
              "      <td>343.15</td>\n",
              "      <td>294.0</td>\n",
              "      <td>240.0</td>\n",
              "      <td>5.4</td>\n",
              "    </tr>\n",
              "    <tr>\n",
              "      <th>3</th>\n",
              "      <td>7.097</td>\n",
              "      <td>696.016984</td>\n",
              "      <td>50.0</td>\n",
              "      <td>80.0</td>\n",
              "      <td>353.15</td>\n",
              "      <td>82.0</td>\n",
              "      <td>90.0</td>\n",
              "      <td>5.7</td>\n",
              "    </tr>\n",
              "    <tr>\n",
              "      <th>4</th>\n",
              "      <td>8.295</td>\n",
              "      <td>813.507240</td>\n",
              "      <td>56.0</td>\n",
              "      <td>40.0</td>\n",
              "      <td>313.15</td>\n",
              "      <td>291.0</td>\n",
              "      <td>240.0</td>\n",
              "      <td>1.4</td>\n",
              "    </tr>\n",
              "  </tbody>\n",
              "</table>\n",
              "</div>\n",
              "      <button class=\"colab-df-convert\" onclick=\"convertToInteractive('df-ee374aca-b6cf-44bb-b3b1-6d6257917ddf')\"\n",
              "              title=\"Convert this dataframe to an interactive table.\"\n",
              "              style=\"display:none;\">\n",
              "\n",
              "  <svg xmlns=\"http://www.w3.org/2000/svg\" height=\"24px\"viewBox=\"0 0 24 24\"\n",
              "       width=\"24px\">\n",
              "    <path d=\"M0 0h24v24H0V0z\" fill=\"none\"/>\n",
              "    <path d=\"M18.56 5.44l.94 2.06.94-2.06 2.06-.94-2.06-.94-.94-2.06-.94 2.06-2.06.94zm-11 1L8.5 8.5l.94-2.06 2.06-.94-2.06-.94L8.5 2.5l-.94 2.06-2.06.94zm10 10l.94 2.06.94-2.06 2.06-.94-2.06-.94-.94-2.06-.94 2.06-2.06.94z\"/><path d=\"M17.41 7.96l-1.37-1.37c-.4-.4-.92-.59-1.43-.59-.52 0-1.04.2-1.43.59L10.3 9.45l-7.72 7.72c-.78.78-.78 2.05 0 2.83L4 21.41c.39.39.9.59 1.41.59.51 0 1.02-.2 1.41-.59l7.78-7.78 2.81-2.81c.8-.78.8-2.07 0-2.86zM5.41 20L4 18.59l7.72-7.72 1.47 1.35L5.41 20z\"/>\n",
              "  </svg>\n",
              "      </button>\n",
              "\n",
              "\n",
              "\n",
              "    <div id=\"df-5bd64c7e-630d-4855-9818-199dc7c6c25c\">\n",
              "      <button class=\"colab-df-quickchart\" onclick=\"quickchart('df-5bd64c7e-630d-4855-9818-199dc7c6c25c')\"\n",
              "              title=\"Suggest charts.\"\n",
              "              style=\"display:none;\">\n",
              "\n",
              "<svg xmlns=\"http://www.w3.org/2000/svg\" height=\"24px\"viewBox=\"0 0 24 24\"\n",
              "     width=\"24px\">\n",
              "    <g>\n",
              "        <path d=\"M19 3H5c-1.1 0-2 .9-2 2v14c0 1.1.9 2 2 2h14c1.1 0 2-.9 2-2V5c0-1.1-.9-2-2-2zM9 17H7v-7h2v7zm4 0h-2V7h2v10zm4 0h-2v-4h2v4z\"/>\n",
              "    </g>\n",
              "</svg>\n",
              "      </button>\n",
              "    </div>\n",
              "\n",
              "<style>\n",
              "  .colab-df-quickchart {\n",
              "    background-color: #E8F0FE;\n",
              "    border: none;\n",
              "    border-radius: 50%;\n",
              "    cursor: pointer;\n",
              "    display: none;\n",
              "    fill: #1967D2;\n",
              "    height: 32px;\n",
              "    padding: 0 0 0 0;\n",
              "    width: 32px;\n",
              "  }\n",
              "\n",
              "  .colab-df-quickchart:hover {\n",
              "    background-color: #E2EBFA;\n",
              "    box-shadow: 0px 1px 2px rgba(60, 64, 67, 0.3), 0px 1px 3px 1px rgba(60, 64, 67, 0.15);\n",
              "    fill: #174EA6;\n",
              "  }\n",
              "\n",
              "  [theme=dark] .colab-df-quickchart {\n",
              "    background-color: #3B4455;\n",
              "    fill: #D2E3FC;\n",
              "  }\n",
              "\n",
              "  [theme=dark] .colab-df-quickchart:hover {\n",
              "    background-color: #434B5C;\n",
              "    box-shadow: 0px 1px 3px 1px rgba(0, 0, 0, 0.15);\n",
              "    filter: drop-shadow(0px 1px 2px rgba(0, 0, 0, 0.3));\n",
              "    fill: #FFFFFF;\n",
              "  }\n",
              "</style>\n",
              "\n",
              "    <script>\n",
              "      async function quickchart(key) {\n",
              "        const containerElement = document.querySelector('#' + key);\n",
              "        const charts = await google.colab.kernel.invokeFunction(\n",
              "            'suggestCharts', [key], {});\n",
              "      }\n",
              "    </script>\n",
              "\n",
              "      <script>\n",
              "\n",
              "function displayQuickchartButton(domScope) {\n",
              "  let quickchartButtonEl =\n",
              "    domScope.querySelector('#df-5bd64c7e-630d-4855-9818-199dc7c6c25c button.colab-df-quickchart');\n",
              "  quickchartButtonEl.style.display =\n",
              "    google.colab.kernel.accessAllowed ? 'block' : 'none';\n",
              "}\n",
              "\n",
              "        displayQuickchartButton(document);\n",
              "      </script>\n",
              "      <style>\n",
              "    .colab-df-container {\n",
              "      display:flex;\n",
              "      flex-wrap:wrap;\n",
              "      gap: 12px;\n",
              "    }\n",
              "\n",
              "    .colab-df-convert {\n",
              "      background-color: #E8F0FE;\n",
              "      border: none;\n",
              "      border-radius: 50%;\n",
              "      cursor: pointer;\n",
              "      display: none;\n",
              "      fill: #1967D2;\n",
              "      height: 32px;\n",
              "      padding: 0 0 0 0;\n",
              "      width: 32px;\n",
              "    }\n",
              "\n",
              "    .colab-df-convert:hover {\n",
              "      background-color: #E2EBFA;\n",
              "      box-shadow: 0px 1px 2px rgba(60, 64, 67, 0.3), 0px 1px 3px 1px rgba(60, 64, 67, 0.15);\n",
              "      fill: #174EA6;\n",
              "    }\n",
              "\n",
              "    [theme=dark] .colab-df-convert {\n",
              "      background-color: #3B4455;\n",
              "      fill: #D2E3FC;\n",
              "    }\n",
              "\n",
              "    [theme=dark] .colab-df-convert:hover {\n",
              "      background-color: #434B5C;\n",
              "      box-shadow: 0px 1px 3px 1px rgba(0, 0, 0, 0.15);\n",
              "      filter: drop-shadow(0px 1px 2px rgba(0, 0, 0, 0.3));\n",
              "      fill: #FFFFFF;\n",
              "    }\n",
              "  </style>\n",
              "\n",
              "      <script>\n",
              "        const buttonEl =\n",
              "          document.querySelector('#df-ee374aca-b6cf-44bb-b3b1-6d6257917ddf button.colab-df-convert');\n",
              "        buttonEl.style.display =\n",
              "          google.colab.kernel.accessAllowed ? 'block' : 'none';\n",
              "\n",
              "        async function convertToInteractive(key) {\n",
              "          const element = document.querySelector('#df-ee374aca-b6cf-44bb-b3b1-6d6257917ddf');\n",
              "          const dataTable =\n",
              "            await google.colab.kernel.invokeFunction('convertToInteractive',\n",
              "                                                     [key], {});\n",
              "          if (!dataTable) return;\n",
              "\n",
              "          const docLinkHtml = 'Like what you see? Visit the ' +\n",
              "            '<a target=\"_blank\" href=https://colab.research.google.com/notebooks/data_table.ipynb>data table notebook</a>'\n",
              "            + ' to learn more about interactive tables.';\n",
              "          element.innerHTML = '';\n",
              "          dataTable['output_type'] = 'display_data';\n",
              "          await google.colab.output.renderOutput(dataTable, element);\n",
              "          const docLink = document.createElement('div');\n",
              "          docLink.innerHTML = docLinkHtml;\n",
              "          element.appendChild(docLink);\n",
              "        }\n",
              "      </script>\n",
              "    </div>\n",
              "  </div>\n"
            ]
          },
          "metadata": {},
          "execution_count": 10
        }
      ]
    },
    {
      "cell_type": "code",
      "source": [
        "def f_k1(R,T,C_SA):\n",
        "  exp = -36353/(R*T)\n",
        "  k1 = 4.8059*np.exp(exp)*C_SA**3.8157\n",
        "  return k1"
      ],
      "metadata": {
        "id": "L_R912Jop11J"
      },
      "execution_count": null,
      "outputs": []
    },
    {
      "cell_type": "code",
      "source": [
        "def f_k3(R,T,C_SA):\n",
        "  exp = -40222/(R*T)\n",
        "  k3 = 24.1186*np.exp(exp)*C_SA**3.2566\n",
        "  return k3"
      ],
      "metadata": {
        "id": "eVXwsl7xr0ns"
      },
      "execution_count": null,
      "outputs": []
    },
    {
      "cell_type": "code",
      "source": [
        "def f_R0(T_oC,T_ref):\n",
        "  exp = (T_oC-T_ref)/14.75\n",
        "  R0 = np.exp(exp)\n",
        "  return R0"
      ],
      "metadata": {
        "id": "NVqvEWWPsGBf"
      },
      "execution_count": null,
      "outputs": []
    },
    {
      "cell_type": "code",
      "source": [
        "def f_R(C_SA,n,R0):\n",
        "  R = R0*C_SA**n\n",
        "  return R"
      ],
      "metadata": {
        "id": "wM5WqKVvtYY0"
      },
      "execution_count": null,
      "outputs": []
    },
    {
      "cell_type": "code",
      "source": [
        "def f_gamma(C_SA,R0):\n",
        "  gamma = 1 - 60.8259/((C_SA**1.9752)*(R0**0.1314))\n",
        "  return gamma"
      ],
      "metadata": {
        "id": "o8XbTp5IvNZy"
      },
      "execution_count": null,
      "outputs": []
    },
    {
      "cell_type": "code",
      "source": [
        "R_0 = f_R0(data['T_oC'],25)\n",
        "data['R_0'] = R_0"
      ],
      "metadata": {
        "id": "Er6LpaOlsk6D"
      },
      "execution_count": null,
      "outputs": []
    },
    {
      "cell_type": "code",
      "source": [
        "R = f_R(data['C_SA_g_L'],1,data['R_0'])\n",
        "data['R'] = R"
      ],
      "metadata": {
        "id": "WFQauorxt8WS"
      },
      "execution_count": null,
      "outputs": []
    },
    {
      "cell_type": "code",
      "source": [
        "gamma = f_gamma(data['C_SA_g_L'],data['R_0'])\n",
        "data['gamma'] = gamma"
      ],
      "metadata": {
        "id": "IJfJngNNvpr4"
      },
      "execution_count": null,
      "outputs": []
    },
    {
      "cell_type": "code",
      "source": [
        "k1 = f_k1(data['R'],data['T_K'],data['C_SA_g_L'])\n",
        "k3 = f_k3(data['R'],data['T_K'],data['C_SA_g_L'])"
      ],
      "metadata": {
        "id": "JX1sVuGSuS0o"
      },
      "execution_count": null,
      "outputs": []
    },
    {
      "cell_type": "code",
      "source": [
        "data['k1'] = k1\n",
        "data['k3'] = k3\n",
        "data.head()"
      ],
      "metadata": {
        "colab": {
          "base_uri": "https://localhost:8080/",
          "height": 250
        },
        "id": "jIm5mraHu5T0",
        "outputId": "c9cb3dec-6fcd-4948-ed03-8b0b3904b956"
      },
      "execution_count": null,
      "outputs": [
        {
          "output_type": "execute_result",
          "data": {
            "text/plain": [
              "   C_SA_mol_L    C_SA_g_L  C_SA_mm  T_oC     T_K  t_opt_min  t_exp_min  \\\n",
              "0       7.097  696.016984     50.0  50.0  323.15      239.0      240.0   \n",
              "1       7.097  696.016984     50.0  60.0  333.15      229.0      240.0   \n",
              "2       7.097  696.016984     50.0  70.0  343.15      294.0      240.0   \n",
              "3       7.097  696.016984     50.0  80.0  353.15       82.0       90.0   \n",
              "4       8.295  813.507240     56.0  40.0  313.15      291.0      240.0   \n",
              "\n",
              "   C_glu_g_L        R_0             R     gamma            k1            k3  \n",
              "0        2.0   5.446184   3790.636844  0.999882  3.276956e+11  4.220535e+10  \n",
              "1        5.1  10.728260   7467.050979  0.999892  3.326693e+11  4.291468e+10  \n",
              "2        5.4  21.133246  14709.098398  0.999901  3.351439e+11  4.326802e+10  \n",
              "3        5.7  41.629688  28974.969676  0.999910  3.363693e+11  4.344309e+10  \n",
              "4        1.4   2.764747   2249.141752  0.999905  5.813330e+11  6.845947e+10  "
            ],
            "text/html": [
              "\n",
              "\n",
              "  <div id=\"df-6a0a234f-1843-4fbe-b4ce-51ad5b5f9b2f\">\n",
              "    <div class=\"colab-df-container\">\n",
              "      <div>\n",
              "<style scoped>\n",
              "    .dataframe tbody tr th:only-of-type {\n",
              "        vertical-align: middle;\n",
              "    }\n",
              "\n",
              "    .dataframe tbody tr th {\n",
              "        vertical-align: top;\n",
              "    }\n",
              "\n",
              "    .dataframe thead th {\n",
              "        text-align: right;\n",
              "    }\n",
              "</style>\n",
              "<table border=\"1\" class=\"dataframe\">\n",
              "  <thead>\n",
              "    <tr style=\"text-align: right;\">\n",
              "      <th></th>\n",
              "      <th>C_SA_mol_L</th>\n",
              "      <th>C_SA_g_L</th>\n",
              "      <th>C_SA_mm</th>\n",
              "      <th>T_oC</th>\n",
              "      <th>T_K</th>\n",
              "      <th>t_opt_min</th>\n",
              "      <th>t_exp_min</th>\n",
              "      <th>C_glu_g_L</th>\n",
              "      <th>R_0</th>\n",
              "      <th>R</th>\n",
              "      <th>gamma</th>\n",
              "      <th>k1</th>\n",
              "      <th>k3</th>\n",
              "    </tr>\n",
              "  </thead>\n",
              "  <tbody>\n",
              "    <tr>\n",
              "      <th>0</th>\n",
              "      <td>7.097</td>\n",
              "      <td>696.016984</td>\n",
              "      <td>50.0</td>\n",
              "      <td>50.0</td>\n",
              "      <td>323.15</td>\n",
              "      <td>239.0</td>\n",
              "      <td>240.0</td>\n",
              "      <td>2.0</td>\n",
              "      <td>5.446184</td>\n",
              "      <td>3790.636844</td>\n",
              "      <td>0.999882</td>\n",
              "      <td>3.276956e+11</td>\n",
              "      <td>4.220535e+10</td>\n",
              "    </tr>\n",
              "    <tr>\n",
              "      <th>1</th>\n",
              "      <td>7.097</td>\n",
              "      <td>696.016984</td>\n",
              "      <td>50.0</td>\n",
              "      <td>60.0</td>\n",
              "      <td>333.15</td>\n",
              "      <td>229.0</td>\n",
              "      <td>240.0</td>\n",
              "      <td>5.1</td>\n",
              "      <td>10.728260</td>\n",
              "      <td>7467.050979</td>\n",
              "      <td>0.999892</td>\n",
              "      <td>3.326693e+11</td>\n",
              "      <td>4.291468e+10</td>\n",
              "    </tr>\n",
              "    <tr>\n",
              "      <th>2</th>\n",
              "      <td>7.097</td>\n",
              "      <td>696.016984</td>\n",
              "      <td>50.0</td>\n",
              "      <td>70.0</td>\n",
              "      <td>343.15</td>\n",
              "      <td>294.0</td>\n",
              "      <td>240.0</td>\n",
              "      <td>5.4</td>\n",
              "      <td>21.133246</td>\n",
              "      <td>14709.098398</td>\n",
              "      <td>0.999901</td>\n",
              "      <td>3.351439e+11</td>\n",
              "      <td>4.326802e+10</td>\n",
              "    </tr>\n",
              "    <tr>\n",
              "      <th>3</th>\n",
              "      <td>7.097</td>\n",
              "      <td>696.016984</td>\n",
              "      <td>50.0</td>\n",
              "      <td>80.0</td>\n",
              "      <td>353.15</td>\n",
              "      <td>82.0</td>\n",
              "      <td>90.0</td>\n",
              "      <td>5.7</td>\n",
              "      <td>41.629688</td>\n",
              "      <td>28974.969676</td>\n",
              "      <td>0.999910</td>\n",
              "      <td>3.363693e+11</td>\n",
              "      <td>4.344309e+10</td>\n",
              "    </tr>\n",
              "    <tr>\n",
              "      <th>4</th>\n",
              "      <td>8.295</td>\n",
              "      <td>813.507240</td>\n",
              "      <td>56.0</td>\n",
              "      <td>40.0</td>\n",
              "      <td>313.15</td>\n",
              "      <td>291.0</td>\n",
              "      <td>240.0</td>\n",
              "      <td>1.4</td>\n",
              "      <td>2.764747</td>\n",
              "      <td>2249.141752</td>\n",
              "      <td>0.999905</td>\n",
              "      <td>5.813330e+11</td>\n",
              "      <td>6.845947e+10</td>\n",
              "    </tr>\n",
              "  </tbody>\n",
              "</table>\n",
              "</div>\n",
              "      <button class=\"colab-df-convert\" onclick=\"convertToInteractive('df-6a0a234f-1843-4fbe-b4ce-51ad5b5f9b2f')\"\n",
              "              title=\"Convert this dataframe to an interactive table.\"\n",
              "              style=\"display:none;\">\n",
              "\n",
              "  <svg xmlns=\"http://www.w3.org/2000/svg\" height=\"24px\"viewBox=\"0 0 24 24\"\n",
              "       width=\"24px\">\n",
              "    <path d=\"M0 0h24v24H0V0z\" fill=\"none\"/>\n",
              "    <path d=\"M18.56 5.44l.94 2.06.94-2.06 2.06-.94-2.06-.94-.94-2.06-.94 2.06-2.06.94zm-11 1L8.5 8.5l.94-2.06 2.06-.94-2.06-.94L8.5 2.5l-.94 2.06-2.06.94zm10 10l.94 2.06.94-2.06 2.06-.94-2.06-.94-.94-2.06-.94 2.06-2.06.94z\"/><path d=\"M17.41 7.96l-1.37-1.37c-.4-.4-.92-.59-1.43-.59-.52 0-1.04.2-1.43.59L10.3 9.45l-7.72 7.72c-.78.78-.78 2.05 0 2.83L4 21.41c.39.39.9.59 1.41.59.51 0 1.02-.2 1.41-.59l7.78-7.78 2.81-2.81c.8-.78.8-2.07 0-2.86zM5.41 20L4 18.59l7.72-7.72 1.47 1.35L5.41 20z\"/>\n",
              "  </svg>\n",
              "      </button>\n",
              "\n",
              "\n",
              "\n",
              "    <div id=\"df-d2cb8f70-fda0-43f5-b5b1-dd5d26d35992\">\n",
              "      <button class=\"colab-df-quickchart\" onclick=\"quickchart('df-d2cb8f70-fda0-43f5-b5b1-dd5d26d35992')\"\n",
              "              title=\"Suggest charts.\"\n",
              "              style=\"display:none;\">\n",
              "\n",
              "<svg xmlns=\"http://www.w3.org/2000/svg\" height=\"24px\"viewBox=\"0 0 24 24\"\n",
              "     width=\"24px\">\n",
              "    <g>\n",
              "        <path d=\"M19 3H5c-1.1 0-2 .9-2 2v14c0 1.1.9 2 2 2h14c1.1 0 2-.9 2-2V5c0-1.1-.9-2-2-2zM9 17H7v-7h2v7zm4 0h-2V7h2v10zm4 0h-2v-4h2v4z\"/>\n",
              "    </g>\n",
              "</svg>\n",
              "      </button>\n",
              "    </div>\n",
              "\n",
              "<style>\n",
              "  .colab-df-quickchart {\n",
              "    background-color: #E8F0FE;\n",
              "    border: none;\n",
              "    border-radius: 50%;\n",
              "    cursor: pointer;\n",
              "    display: none;\n",
              "    fill: #1967D2;\n",
              "    height: 32px;\n",
              "    padding: 0 0 0 0;\n",
              "    width: 32px;\n",
              "  }\n",
              "\n",
              "  .colab-df-quickchart:hover {\n",
              "    background-color: #E2EBFA;\n",
              "    box-shadow: 0px 1px 2px rgba(60, 64, 67, 0.3), 0px 1px 3px 1px rgba(60, 64, 67, 0.15);\n",
              "    fill: #174EA6;\n",
              "  }\n",
              "\n",
              "  [theme=dark] .colab-df-quickchart {\n",
              "    background-color: #3B4455;\n",
              "    fill: #D2E3FC;\n",
              "  }\n",
              "\n",
              "  [theme=dark] .colab-df-quickchart:hover {\n",
              "    background-color: #434B5C;\n",
              "    box-shadow: 0px 1px 3px 1px rgba(0, 0, 0, 0.15);\n",
              "    filter: drop-shadow(0px 1px 2px rgba(0, 0, 0, 0.3));\n",
              "    fill: #FFFFFF;\n",
              "  }\n",
              "</style>\n",
              "\n",
              "    <script>\n",
              "      async function quickchart(key) {\n",
              "        const containerElement = document.querySelector('#' + key);\n",
              "        const charts = await google.colab.kernel.invokeFunction(\n",
              "            'suggestCharts', [key], {});\n",
              "      }\n",
              "    </script>\n",
              "\n",
              "      <script>\n",
              "\n",
              "function displayQuickchartButton(domScope) {\n",
              "  let quickchartButtonEl =\n",
              "    domScope.querySelector('#df-d2cb8f70-fda0-43f5-b5b1-dd5d26d35992 button.colab-df-quickchart');\n",
              "  quickchartButtonEl.style.display =\n",
              "    google.colab.kernel.accessAllowed ? 'block' : 'none';\n",
              "}\n",
              "\n",
              "        displayQuickchartButton(document);\n",
              "      </script>\n",
              "      <style>\n",
              "    .colab-df-container {\n",
              "      display:flex;\n",
              "      flex-wrap:wrap;\n",
              "      gap: 12px;\n",
              "    }\n",
              "\n",
              "    .colab-df-convert {\n",
              "      background-color: #E8F0FE;\n",
              "      border: none;\n",
              "      border-radius: 50%;\n",
              "      cursor: pointer;\n",
              "      display: none;\n",
              "      fill: #1967D2;\n",
              "      height: 32px;\n",
              "      padding: 0 0 0 0;\n",
              "      width: 32px;\n",
              "    }\n",
              "\n",
              "    .colab-df-convert:hover {\n",
              "      background-color: #E2EBFA;\n",
              "      box-shadow: 0px 1px 2px rgba(60, 64, 67, 0.3), 0px 1px 3px 1px rgba(60, 64, 67, 0.15);\n",
              "      fill: #174EA6;\n",
              "    }\n",
              "\n",
              "    [theme=dark] .colab-df-convert {\n",
              "      background-color: #3B4455;\n",
              "      fill: #D2E3FC;\n",
              "    }\n",
              "\n",
              "    [theme=dark] .colab-df-convert:hover {\n",
              "      background-color: #434B5C;\n",
              "      box-shadow: 0px 1px 3px 1px rgba(0, 0, 0, 0.15);\n",
              "      filter: drop-shadow(0px 1px 2px rgba(0, 0, 0, 0.3));\n",
              "      fill: #FFFFFF;\n",
              "    }\n",
              "  </style>\n",
              "\n",
              "      <script>\n",
              "        const buttonEl =\n",
              "          document.querySelector('#df-6a0a234f-1843-4fbe-b4ce-51ad5b5f9b2f button.colab-df-convert');\n",
              "        buttonEl.style.display =\n",
              "          google.colab.kernel.accessAllowed ? 'block' : 'none';\n",
              "\n",
              "        async function convertToInteractive(key) {\n",
              "          const element = document.querySelector('#df-6a0a234f-1843-4fbe-b4ce-51ad5b5f9b2f');\n",
              "          const dataTable =\n",
              "            await google.colab.kernel.invokeFunction('convertToInteractive',\n",
              "                                                     [key], {});\n",
              "          if (!dataTable) return;\n",
              "\n",
              "          const docLinkHtml = 'Like what you see? Visit the ' +\n",
              "            '<a target=\"_blank\" href=https://colab.research.google.com/notebooks/data_table.ipynb>data table notebook</a>'\n",
              "            + ' to learn more about interactive tables.';\n",
              "          element.innerHTML = '';\n",
              "          dataTable['output_type'] = 'display_data';\n",
              "          await google.colab.output.renderOutput(dataTable, element);\n",
              "          const docLink = document.createElement('div');\n",
              "          docLink.innerHTML = docLinkHtml;\n",
              "          element.appendChild(docLink);\n",
              "        }\n",
              "      </script>\n",
              "    </div>\n",
              "  </div>\n"
            ]
          },
          "metadata": {},
          "execution_count": 20
        }
      ]
    },
    {
      "cell_type": "markdown",
      "source": [
        "### Defining $k_2$ via experiments results and equation 14\n",
        "\n",
        "$$t_{opt} = \\frac{ln \\Big ( \\frac{k_1 + k_3}{k_2} \\Big )}{k_1 + k_3 - k_2} \\tag{14} $$"
      ],
      "metadata": {
        "id": "-LUcpdPVqCdy"
      }
    },
    {
      "cell_type": "code",
      "source": [
        "from scipy.optimize import fsolve"
      ],
      "metadata": {
        "id": "nK9_dfQRqPKD"
      },
      "execution_count": null,
      "outputs": []
    },
    {
      "cell_type": "code",
      "source": [
        "def f_eq14(k2,data):\n",
        "  num = np.log((data['k1'] + data['k3'])/k2)\n",
        "  den = data['k1'] + data['k3'] - k2\n",
        "  return (num/den) #- data['t_opt_min']"
      ],
      "metadata": {
        "id": "UJA17EoF8ST-"
      },
      "execution_count": null,
      "outputs": []
    },
    {
      "cell_type": "code",
      "source": [
        "k2_ig = np.zeros(k1.size)\n",
        "k2_ig = [x+1e-15 for x in k2_ig]\n",
        "k2_ig"
      ],
      "metadata": {
        "colab": {
          "base_uri": "https://localhost:8080/"
        },
        "id": "cYs4pi-Ytkey",
        "outputId": "cbaafb3f-90a9-485d-e8d3-9fd5149152b1"
      },
      "execution_count": null,
      "outputs": [
        {
          "output_type": "execute_result",
          "data": {
            "text/plain": [
              "[1e-15,\n",
              " 1e-15,\n",
              " 1e-15,\n",
              " 1e-15,\n",
              " 1e-15,\n",
              " 1e-15,\n",
              " 1e-15,\n",
              " 1e-15,\n",
              " 1e-15,\n",
              " 1e-15,\n",
              " 1e-15,\n",
              " 1e-15,\n",
              " 1e-15,\n",
              " 1e-15]"
            ]
          },
          "metadata": {},
          "execution_count": 23
        }
      ]
    },
    {
      "cell_type": "code",
      "source": [
        "k2 = fsolve(f_eq14,k2_ig,args=(data))"
      ],
      "metadata": {
        "colab": {
          "base_uri": "https://localhost:8080/"
        },
        "id": "3veBQ9O_s0Jx",
        "outputId": "55e5ee4f-f0ae-46b3-9420-4504672f7353"
      },
      "execution_count": null,
      "outputs": [
        {
          "output_type": "stream",
          "name": "stderr",
          "text": [
            "/usr/local/lib/python3.10/dist-packages/scipy/optimize/_minpack_py.py:178: RuntimeWarning: The iteration is not making good progress, as measured by the \n",
            "  improvement from the last ten iterations.\n",
            "  warnings.warn(msg, RuntimeWarning)\n"
          ]
        }
      ]
    },
    {
      "cell_type": "code",
      "source": [
        "k2"
      ],
      "metadata": {
        "colab": {
          "base_uri": "https://localhost:8080/"
        },
        "id": "aujp8RAHt60q",
        "outputId": "898f7854-bacc-4e6f-b1a9-32a1c1cf1ff6"
      },
      "execution_count": null,
      "outputs": [
        {
          "output_type": "execute_result",
          "data": {
            "text/plain": [
              "array([4.06873008e+163, 4.06869620e+163, 4.06868060e+163, 4.06867329e+163,\n",
              "       1.57218167e+163, 1.57278465e+163, 1.57303479e+163, 1.57316294e+163,\n",
              "       1.69955089e+163, 2.07845689e+163, 2.07869416e+163, 2.07952209e+163,\n",
              "       2.07980467e+163, 2.39719433e+163])"
            ]
          },
          "metadata": {},
          "execution_count": 25
        }
      ]
    },
    {
      "cell_type": "code",
      "source": [
        "data['k2'] = k2\n",
        "data"
      ],
      "metadata": {
        "colab": {
          "base_uri": "https://localhost:8080/",
          "height": 553
        },
        "id": "EsikEOJDxpWR",
        "outputId": "3fb42822-625e-4ffe-e0a5-025beb13565f"
      },
      "execution_count": null,
      "outputs": [
        {
          "output_type": "execute_result",
          "data": {
            "text/plain": [
              "    C_SA_mol_L    C_SA_g_L  C_SA_mm  T_oC     T_K  t_opt_min  t_exp_min  \\\n",
              "0        7.097  696.016984     50.0  50.0  323.15      239.0      240.0   \n",
              "1        7.097  696.016984     50.0  60.0  333.15      229.0      240.0   \n",
              "2        7.097  696.016984     50.0  70.0  343.15      294.0      240.0   \n",
              "3        7.097  696.016984     50.0  80.0  353.15       82.0       90.0   \n",
              "4        8.295  813.507240     56.0  40.0  313.15      291.0      240.0   \n",
              "5        8.295  813.507240     56.0  50.0  323.15      202.0      210.0   \n",
              "6        8.295  813.507240     56.0  60.0  333.15      143.0      150.0   \n",
              "7        8.295  813.507240     56.0  70.0  343.15      103.0       90.0   \n",
              "8        8.715  854.697480     58.0  56.0  329.15      205.0      210.0   \n",
              "9        9.589  940.412408     62.0  35.0  308.15      228.0      180.0   \n",
              "10       9.589  940.412408     62.0  40.0  313.15      195.0      120.0   \n",
              "11       9.589  940.412408     62.0  50.0  323.15      101.0       75.0   \n",
              "12       9.589  940.412408     62.0  60.0  333.15       30.0       60.0   \n",
              "13      10.043  984.937096     64.0  45.0  318.15       64.0       15.0   \n",
              "\n",
              "    C_glu_g_L        R_0             R     gamma            k1            k3  \\\n",
              "0         2.0   5.446184   3790.636844  0.999882  3.276956e+11  4.220535e+10   \n",
              "1         5.1  10.728260   7467.050979  0.999892  3.326693e+11  4.291468e+10   \n",
              "2         5.4  21.133246  14709.098398  0.999901  3.351439e+11  4.326802e+10   \n",
              "3         5.7  41.629688  28974.969676  0.999910  3.363693e+11  4.344309e+10   \n",
              "4         1.4   2.764747   2249.141752  0.999905  5.813330e+11  6.845947e+10   \n",
              "5         6.5   5.446184   4430.510444  0.999913  5.967791e+11  7.047487e+10   \n",
              "6         7.7  10.728260   8727.516961  0.999921  6.045203e+11  7.148703e+10   \n",
              "7        12.2  21.133246  17192.048924  0.999927  6.083656e+11  7.199032e+10   \n",
              "8         7.5   8.180023   6991.444715  0.999925  7.274963e+11  8.365688e+10   \n",
              "9        32.6   1.969867   1852.487506  0.999925  9.986388e+11  1.083079e+11   \n",
              "10       19.3   2.764747   2600.002443  0.999929  1.017829e+12  1.106129e+11   \n",
              "11       22.0   5.446184   5121.659390  0.999935  1.041181e+12  1.134243e+11   \n",
              "12       21.7  10.728260  10088.988564  0.999940  1.052855e+12  1.148322e+11   \n",
              "13       32.0   3.880377   3821.926832  0.999938  1.232365e+12  1.307134e+11   \n",
              "\n",
              "               k2  \n",
              "0   4.068730e+163  \n",
              "1   4.068696e+163  \n",
              "2   4.068681e+163  \n",
              "3   4.068673e+163  \n",
              "4   1.572182e+163  \n",
              "5   1.572785e+163  \n",
              "6   1.573035e+163  \n",
              "7   1.573163e+163  \n",
              "8   1.699551e+163  \n",
              "9   2.078457e+163  \n",
              "10  2.078694e+163  \n",
              "11  2.079522e+163  \n",
              "12  2.079805e+163  \n",
              "13  2.397194e+163  "
            ],
            "text/html": [
              "\n",
              "\n",
              "  <div id=\"df-011c48e3-6e17-4f0c-afce-77213b75ed7b\">\n",
              "    <div class=\"colab-df-container\">\n",
              "      <div>\n",
              "<style scoped>\n",
              "    .dataframe tbody tr th:only-of-type {\n",
              "        vertical-align: middle;\n",
              "    }\n",
              "\n",
              "    .dataframe tbody tr th {\n",
              "        vertical-align: top;\n",
              "    }\n",
              "\n",
              "    .dataframe thead th {\n",
              "        text-align: right;\n",
              "    }\n",
              "</style>\n",
              "<table border=\"1\" class=\"dataframe\">\n",
              "  <thead>\n",
              "    <tr style=\"text-align: right;\">\n",
              "      <th></th>\n",
              "      <th>C_SA_mol_L</th>\n",
              "      <th>C_SA_g_L</th>\n",
              "      <th>C_SA_mm</th>\n",
              "      <th>T_oC</th>\n",
              "      <th>T_K</th>\n",
              "      <th>t_opt_min</th>\n",
              "      <th>t_exp_min</th>\n",
              "      <th>C_glu_g_L</th>\n",
              "      <th>R_0</th>\n",
              "      <th>R</th>\n",
              "      <th>gamma</th>\n",
              "      <th>k1</th>\n",
              "      <th>k3</th>\n",
              "      <th>k2</th>\n",
              "    </tr>\n",
              "  </thead>\n",
              "  <tbody>\n",
              "    <tr>\n",
              "      <th>0</th>\n",
              "      <td>7.097</td>\n",
              "      <td>696.016984</td>\n",
              "      <td>50.0</td>\n",
              "      <td>50.0</td>\n",
              "      <td>323.15</td>\n",
              "      <td>239.0</td>\n",
              "      <td>240.0</td>\n",
              "      <td>2.0</td>\n",
              "      <td>5.446184</td>\n",
              "      <td>3790.636844</td>\n",
              "      <td>0.999882</td>\n",
              "      <td>3.276956e+11</td>\n",
              "      <td>4.220535e+10</td>\n",
              "      <td>4.068730e+163</td>\n",
              "    </tr>\n",
              "    <tr>\n",
              "      <th>1</th>\n",
              "      <td>7.097</td>\n",
              "      <td>696.016984</td>\n",
              "      <td>50.0</td>\n",
              "      <td>60.0</td>\n",
              "      <td>333.15</td>\n",
              "      <td>229.0</td>\n",
              "      <td>240.0</td>\n",
              "      <td>5.1</td>\n",
              "      <td>10.728260</td>\n",
              "      <td>7467.050979</td>\n",
              "      <td>0.999892</td>\n",
              "      <td>3.326693e+11</td>\n",
              "      <td>4.291468e+10</td>\n",
              "      <td>4.068696e+163</td>\n",
              "    </tr>\n",
              "    <tr>\n",
              "      <th>2</th>\n",
              "      <td>7.097</td>\n",
              "      <td>696.016984</td>\n",
              "      <td>50.0</td>\n",
              "      <td>70.0</td>\n",
              "      <td>343.15</td>\n",
              "      <td>294.0</td>\n",
              "      <td>240.0</td>\n",
              "      <td>5.4</td>\n",
              "      <td>21.133246</td>\n",
              "      <td>14709.098398</td>\n",
              "      <td>0.999901</td>\n",
              "      <td>3.351439e+11</td>\n",
              "      <td>4.326802e+10</td>\n",
              "      <td>4.068681e+163</td>\n",
              "    </tr>\n",
              "    <tr>\n",
              "      <th>3</th>\n",
              "      <td>7.097</td>\n",
              "      <td>696.016984</td>\n",
              "      <td>50.0</td>\n",
              "      <td>80.0</td>\n",
              "      <td>353.15</td>\n",
              "      <td>82.0</td>\n",
              "      <td>90.0</td>\n",
              "      <td>5.7</td>\n",
              "      <td>41.629688</td>\n",
              "      <td>28974.969676</td>\n",
              "      <td>0.999910</td>\n",
              "      <td>3.363693e+11</td>\n",
              "      <td>4.344309e+10</td>\n",
              "      <td>4.068673e+163</td>\n",
              "    </tr>\n",
              "    <tr>\n",
              "      <th>4</th>\n",
              "      <td>8.295</td>\n",
              "      <td>813.507240</td>\n",
              "      <td>56.0</td>\n",
              "      <td>40.0</td>\n",
              "      <td>313.15</td>\n",
              "      <td>291.0</td>\n",
              "      <td>240.0</td>\n",
              "      <td>1.4</td>\n",
              "      <td>2.764747</td>\n",
              "      <td>2249.141752</td>\n",
              "      <td>0.999905</td>\n",
              "      <td>5.813330e+11</td>\n",
              "      <td>6.845947e+10</td>\n",
              "      <td>1.572182e+163</td>\n",
              "    </tr>\n",
              "    <tr>\n",
              "      <th>5</th>\n",
              "      <td>8.295</td>\n",
              "      <td>813.507240</td>\n",
              "      <td>56.0</td>\n",
              "      <td>50.0</td>\n",
              "      <td>323.15</td>\n",
              "      <td>202.0</td>\n",
              "      <td>210.0</td>\n",
              "      <td>6.5</td>\n",
              "      <td>5.446184</td>\n",
              "      <td>4430.510444</td>\n",
              "      <td>0.999913</td>\n",
              "      <td>5.967791e+11</td>\n",
              "      <td>7.047487e+10</td>\n",
              "      <td>1.572785e+163</td>\n",
              "    </tr>\n",
              "    <tr>\n",
              "      <th>6</th>\n",
              "      <td>8.295</td>\n",
              "      <td>813.507240</td>\n",
              "      <td>56.0</td>\n",
              "      <td>60.0</td>\n",
              "      <td>333.15</td>\n",
              "      <td>143.0</td>\n",
              "      <td>150.0</td>\n",
              "      <td>7.7</td>\n",
              "      <td>10.728260</td>\n",
              "      <td>8727.516961</td>\n",
              "      <td>0.999921</td>\n",
              "      <td>6.045203e+11</td>\n",
              "      <td>7.148703e+10</td>\n",
              "      <td>1.573035e+163</td>\n",
              "    </tr>\n",
              "    <tr>\n",
              "      <th>7</th>\n",
              "      <td>8.295</td>\n",
              "      <td>813.507240</td>\n",
              "      <td>56.0</td>\n",
              "      <td>70.0</td>\n",
              "      <td>343.15</td>\n",
              "      <td>103.0</td>\n",
              "      <td>90.0</td>\n",
              "      <td>12.2</td>\n",
              "      <td>21.133246</td>\n",
              "      <td>17192.048924</td>\n",
              "      <td>0.999927</td>\n",
              "      <td>6.083656e+11</td>\n",
              "      <td>7.199032e+10</td>\n",
              "      <td>1.573163e+163</td>\n",
              "    </tr>\n",
              "    <tr>\n",
              "      <th>8</th>\n",
              "      <td>8.715</td>\n",
              "      <td>854.697480</td>\n",
              "      <td>58.0</td>\n",
              "      <td>56.0</td>\n",
              "      <td>329.15</td>\n",
              "      <td>205.0</td>\n",
              "      <td>210.0</td>\n",
              "      <td>7.5</td>\n",
              "      <td>8.180023</td>\n",
              "      <td>6991.444715</td>\n",
              "      <td>0.999925</td>\n",
              "      <td>7.274963e+11</td>\n",
              "      <td>8.365688e+10</td>\n",
              "      <td>1.699551e+163</td>\n",
              "    </tr>\n",
              "    <tr>\n",
              "      <th>9</th>\n",
              "      <td>9.589</td>\n",
              "      <td>940.412408</td>\n",
              "      <td>62.0</td>\n",
              "      <td>35.0</td>\n",
              "      <td>308.15</td>\n",
              "      <td>228.0</td>\n",
              "      <td>180.0</td>\n",
              "      <td>32.6</td>\n",
              "      <td>1.969867</td>\n",
              "      <td>1852.487506</td>\n",
              "      <td>0.999925</td>\n",
              "      <td>9.986388e+11</td>\n",
              "      <td>1.083079e+11</td>\n",
              "      <td>2.078457e+163</td>\n",
              "    </tr>\n",
              "    <tr>\n",
              "      <th>10</th>\n",
              "      <td>9.589</td>\n",
              "      <td>940.412408</td>\n",
              "      <td>62.0</td>\n",
              "      <td>40.0</td>\n",
              "      <td>313.15</td>\n",
              "      <td>195.0</td>\n",
              "      <td>120.0</td>\n",
              "      <td>19.3</td>\n",
              "      <td>2.764747</td>\n",
              "      <td>2600.002443</td>\n",
              "      <td>0.999929</td>\n",
              "      <td>1.017829e+12</td>\n",
              "      <td>1.106129e+11</td>\n",
              "      <td>2.078694e+163</td>\n",
              "    </tr>\n",
              "    <tr>\n",
              "      <th>11</th>\n",
              "      <td>9.589</td>\n",
              "      <td>940.412408</td>\n",
              "      <td>62.0</td>\n",
              "      <td>50.0</td>\n",
              "      <td>323.15</td>\n",
              "      <td>101.0</td>\n",
              "      <td>75.0</td>\n",
              "      <td>22.0</td>\n",
              "      <td>5.446184</td>\n",
              "      <td>5121.659390</td>\n",
              "      <td>0.999935</td>\n",
              "      <td>1.041181e+12</td>\n",
              "      <td>1.134243e+11</td>\n",
              "      <td>2.079522e+163</td>\n",
              "    </tr>\n",
              "    <tr>\n",
              "      <th>12</th>\n",
              "      <td>9.589</td>\n",
              "      <td>940.412408</td>\n",
              "      <td>62.0</td>\n",
              "      <td>60.0</td>\n",
              "      <td>333.15</td>\n",
              "      <td>30.0</td>\n",
              "      <td>60.0</td>\n",
              "      <td>21.7</td>\n",
              "      <td>10.728260</td>\n",
              "      <td>10088.988564</td>\n",
              "      <td>0.999940</td>\n",
              "      <td>1.052855e+12</td>\n",
              "      <td>1.148322e+11</td>\n",
              "      <td>2.079805e+163</td>\n",
              "    </tr>\n",
              "    <tr>\n",
              "      <th>13</th>\n",
              "      <td>10.043</td>\n",
              "      <td>984.937096</td>\n",
              "      <td>64.0</td>\n",
              "      <td>45.0</td>\n",
              "      <td>318.15</td>\n",
              "      <td>64.0</td>\n",
              "      <td>15.0</td>\n",
              "      <td>32.0</td>\n",
              "      <td>3.880377</td>\n",
              "      <td>3821.926832</td>\n",
              "      <td>0.999938</td>\n",
              "      <td>1.232365e+12</td>\n",
              "      <td>1.307134e+11</td>\n",
              "      <td>2.397194e+163</td>\n",
              "    </tr>\n",
              "  </tbody>\n",
              "</table>\n",
              "</div>\n",
              "      <button class=\"colab-df-convert\" onclick=\"convertToInteractive('df-011c48e3-6e17-4f0c-afce-77213b75ed7b')\"\n",
              "              title=\"Convert this dataframe to an interactive table.\"\n",
              "              style=\"display:none;\">\n",
              "\n",
              "  <svg xmlns=\"http://www.w3.org/2000/svg\" height=\"24px\"viewBox=\"0 0 24 24\"\n",
              "       width=\"24px\">\n",
              "    <path d=\"M0 0h24v24H0V0z\" fill=\"none\"/>\n",
              "    <path d=\"M18.56 5.44l.94 2.06.94-2.06 2.06-.94-2.06-.94-.94-2.06-.94 2.06-2.06.94zm-11 1L8.5 8.5l.94-2.06 2.06-.94-2.06-.94L8.5 2.5l-.94 2.06-2.06.94zm10 10l.94 2.06.94-2.06 2.06-.94-2.06-.94-.94-2.06-.94 2.06-2.06.94z\"/><path d=\"M17.41 7.96l-1.37-1.37c-.4-.4-.92-.59-1.43-.59-.52 0-1.04.2-1.43.59L10.3 9.45l-7.72 7.72c-.78.78-.78 2.05 0 2.83L4 21.41c.39.39.9.59 1.41.59.51 0 1.02-.2 1.41-.59l7.78-7.78 2.81-2.81c.8-.78.8-2.07 0-2.86zM5.41 20L4 18.59l7.72-7.72 1.47 1.35L5.41 20z\"/>\n",
              "  </svg>\n",
              "      </button>\n",
              "\n",
              "\n",
              "\n",
              "    <div id=\"df-25de4827-f356-4d15-b3df-7b401220bea6\">\n",
              "      <button class=\"colab-df-quickchart\" onclick=\"quickchart('df-25de4827-f356-4d15-b3df-7b401220bea6')\"\n",
              "              title=\"Suggest charts.\"\n",
              "              style=\"display:none;\">\n",
              "\n",
              "<svg xmlns=\"http://www.w3.org/2000/svg\" height=\"24px\"viewBox=\"0 0 24 24\"\n",
              "     width=\"24px\">\n",
              "    <g>\n",
              "        <path d=\"M19 3H5c-1.1 0-2 .9-2 2v14c0 1.1.9 2 2 2h14c1.1 0 2-.9 2-2V5c0-1.1-.9-2-2-2zM9 17H7v-7h2v7zm4 0h-2V7h2v10zm4 0h-2v-4h2v4z\"/>\n",
              "    </g>\n",
              "</svg>\n",
              "      </button>\n",
              "    </div>\n",
              "\n",
              "<style>\n",
              "  .colab-df-quickchart {\n",
              "    background-color: #E8F0FE;\n",
              "    border: none;\n",
              "    border-radius: 50%;\n",
              "    cursor: pointer;\n",
              "    display: none;\n",
              "    fill: #1967D2;\n",
              "    height: 32px;\n",
              "    padding: 0 0 0 0;\n",
              "    width: 32px;\n",
              "  }\n",
              "\n",
              "  .colab-df-quickchart:hover {\n",
              "    background-color: #E2EBFA;\n",
              "    box-shadow: 0px 1px 2px rgba(60, 64, 67, 0.3), 0px 1px 3px 1px rgba(60, 64, 67, 0.15);\n",
              "    fill: #174EA6;\n",
              "  }\n",
              "\n",
              "  [theme=dark] .colab-df-quickchart {\n",
              "    background-color: #3B4455;\n",
              "    fill: #D2E3FC;\n",
              "  }\n",
              "\n",
              "  [theme=dark] .colab-df-quickchart:hover {\n",
              "    background-color: #434B5C;\n",
              "    box-shadow: 0px 1px 3px 1px rgba(0, 0, 0, 0.15);\n",
              "    filter: drop-shadow(0px 1px 2px rgba(0, 0, 0, 0.3));\n",
              "    fill: #FFFFFF;\n",
              "  }\n",
              "</style>\n",
              "\n",
              "    <script>\n",
              "      async function quickchart(key) {\n",
              "        const containerElement = document.querySelector('#' + key);\n",
              "        const charts = await google.colab.kernel.invokeFunction(\n",
              "            'suggestCharts', [key], {});\n",
              "      }\n",
              "    </script>\n",
              "\n",
              "      <script>\n",
              "\n",
              "function displayQuickchartButton(domScope) {\n",
              "  let quickchartButtonEl =\n",
              "    domScope.querySelector('#df-25de4827-f356-4d15-b3df-7b401220bea6 button.colab-df-quickchart');\n",
              "  quickchartButtonEl.style.display =\n",
              "    google.colab.kernel.accessAllowed ? 'block' : 'none';\n",
              "}\n",
              "\n",
              "        displayQuickchartButton(document);\n",
              "      </script>\n",
              "      <style>\n",
              "    .colab-df-container {\n",
              "      display:flex;\n",
              "      flex-wrap:wrap;\n",
              "      gap: 12px;\n",
              "    }\n",
              "\n",
              "    .colab-df-convert {\n",
              "      background-color: #E8F0FE;\n",
              "      border: none;\n",
              "      border-radius: 50%;\n",
              "      cursor: pointer;\n",
              "      display: none;\n",
              "      fill: #1967D2;\n",
              "      height: 32px;\n",
              "      padding: 0 0 0 0;\n",
              "      width: 32px;\n",
              "    }\n",
              "\n",
              "    .colab-df-convert:hover {\n",
              "      background-color: #E2EBFA;\n",
              "      box-shadow: 0px 1px 2px rgba(60, 64, 67, 0.3), 0px 1px 3px 1px rgba(60, 64, 67, 0.15);\n",
              "      fill: #174EA6;\n",
              "    }\n",
              "\n",
              "    [theme=dark] .colab-df-convert {\n",
              "      background-color: #3B4455;\n",
              "      fill: #D2E3FC;\n",
              "    }\n",
              "\n",
              "    [theme=dark] .colab-df-convert:hover {\n",
              "      background-color: #434B5C;\n",
              "      box-shadow: 0px 1px 3px 1px rgba(0, 0, 0, 0.15);\n",
              "      filter: drop-shadow(0px 1px 2px rgba(0, 0, 0, 0.3));\n",
              "      fill: #FFFFFF;\n",
              "    }\n",
              "  </style>\n",
              "\n",
              "      <script>\n",
              "        const buttonEl =\n",
              "          document.querySelector('#df-011c48e3-6e17-4f0c-afce-77213b75ed7b button.colab-df-convert');\n",
              "        buttonEl.style.display =\n",
              "          google.colab.kernel.accessAllowed ? 'block' : 'none';\n",
              "\n",
              "        async function convertToInteractive(key) {\n",
              "          const element = document.querySelector('#df-011c48e3-6e17-4f0c-afce-77213b75ed7b');\n",
              "          const dataTable =\n",
              "            await google.colab.kernel.invokeFunction('convertToInteractive',\n",
              "                                                     [key], {});\n",
              "          if (!dataTable) return;\n",
              "\n",
              "          const docLinkHtml = 'Like what you see? Visit the ' +\n",
              "            '<a target=\"_blank\" href=https://colab.research.google.com/notebooks/data_table.ipynb>data table notebook</a>'\n",
              "            + ' to learn more about interactive tables.';\n",
              "          element.innerHTML = '';\n",
              "          dataTable['output_type'] = 'display_data';\n",
              "          await google.colab.output.renderOutput(dataTable, element);\n",
              "          const docLink = document.createElement('div');\n",
              "          docLink.innerHTML = docLinkHtml;\n",
              "          element.appendChild(docLink);\n",
              "        }\n",
              "      </script>\n",
              "    </div>\n",
              "  </div>\n"
            ]
          },
          "metadata": {},
          "execution_count": 26
        }
      ]
    },
    {
      "cell_type": "markdown",
      "source": [
        "### Maximizing the glucose concentration"
      ],
      "metadata": {
        "id": "nY44bKnxxcQg"
      }
    },
    {
      "cell_type": "code",
      "source": [
        "from scipy.optimize import minimize"
      ],
      "metadata": {
        "id": "nSS0OgJpy679"
      },
      "execution_count": null,
      "outputs": []
    },
    {
      "cell_type": "code",
      "source": [
        "def f_eq8c(C_glu,data):\n",
        "  factor1 = (1.111*data['C_cel_0']*data['gamma']*(data['k3']-data['k2'])/(data['k1']+data['k3']-data['k2']))*(1-np.exp(-(data['k1']-data['k3'])*data['t_exp_min']))\n",
        "  factor2 = (1.111*data['C_cel_0']*data['gamma']*data['k1']/(data['k1']+data['k3']-data['k2']))*(1-np.exp(-data['k2']*data['t_exp_min']))\n",
        "  C_glu   = -(factor1 + factor2) # There's a minus because we ant to maximize the function, not minimize it\n",
        "  return C_glu"
      ],
      "metadata": {
        "id": "zZZbuKcuqek4"
      },
      "execution_count": null,
      "outputs": []
    },
    {
      "cell_type": "code",
      "source": [
        "C_cel_0 = np.zeros(shape=len(data['k1']))\n",
        "C_cel_0 = [x+42.2 for x in C_cel_0]\n",
        "data['C_cel_0'] = C_cel_0"
      ],
      "metadata": {
        "id": "icQNY3HryX8G"
      },
      "execution_count": null,
      "outputs": []
    },
    {
      "cell_type": "code",
      "source": [
        "C_glu_opt = minimize(fun    = f_eq8c,\n",
        "                     x0     = C_glu_g_L,\n",
        "                     args   = (data),\n",
        "                     method = 'COBYLA')"
      ],
      "metadata": {
        "id": "lUpsRJeJ0tDn"
      },
      "execution_count": null,
      "outputs": []
    },
    {
      "cell_type": "code",
      "source": [
        "C_glu_opt['x']"
      ],
      "metadata": {
        "colab": {
          "base_uri": "https://localhost:8080/"
        },
        "id": "CGQHnKJ-5O77",
        "outputId": "cf58ac8b-a939-4b52-cdfe-66c9735e7715"
      },
      "execution_count": null,
      "outputs": [
        {
          "output_type": "execute_result",
          "data": {
            "text/plain": [
              "array([ 2. ,  5.1,  5.4,  5.7,  1.4,  6.5,  7.7, 12.2,  7.5, 32.6, 19.3,\n",
              "       22. , 21.7, 32. ])"
            ]
          },
          "metadata": {},
          "execution_count": 31
        }
      ]
    }
  ]
}